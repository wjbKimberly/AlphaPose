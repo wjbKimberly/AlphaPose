{
 "cells": [
  {
   "cell_type": "code",
   "execution_count": 2,
   "metadata": {},
   "outputs": [],
   "source": [
    "import h5py\n",
    "import matplotlib.pyplot as plt\n",
    "import numpy as np\n",
    "\n",
    "\n",
    "f = h5py.File('test-bbox.h5','r')\n",
    "\n",
    "ks = f.keys()"
   ]
  },
  {
   "cell_type": "code",
   "execution_count": 8,
   "metadata": {},
   "outputs": [
    {
     "name": "stdout",
     "output_type": "stream",
     "text": [
      "0 xmax\n",
      "[ 207  405  850  573  638  635  639  853  209  405  573  635  556  245\n",
      "  746 1172  868 1019  797  959 1256  896  930  625 1279  626 1125  544\n",
      " 1228  819  964  548 1268  628 1263 1016  742  897  246 1172 1067  560\n",
      "  867  794  540 1234  959  609  959  730 1279  919  517  820  627 1125\n",
      "  933 1069 1046  344  555  121  428  215  430  349  121  558  216]\n",
      "1 xmin\n",
      "[  76  342  734  493  553  605  550  728   75  343  492  602  420  183\n",
      "  564  995  798  960  733  916 1168  855  892  546 1172  561 1074  458\n",
      "  281  788  914  435 1219  545 1168  958  712  860  183  995 1048  414\n",
      "  796  733  466   28  910  544  916  554 1172  883  477  787  552 1074\n",
      "  892 1051 1022  198  463   46  352  139  351  199   47  464  141]\n",
      "2 ymax\n",
      "[416 312 459 385 426 198 416 458 413 313 379 199 682 427 692 706 439 399\n",
      " 449 400 424 364 386 616 622 297 282 288 643 308 284 325 277 387 465 395\n",
      " 289 369 431 697 298 681 439 443 266 466 400 611 262 686 679 388 240 313\n",
      " 332 282 390 290 322 297 306 298 298 302 288 301 308 301 299]\n",
      "3 ymin\n",
      "[164 181 141 173 152 167 158 142 166 179 170 163 218 232 184 243 243 238\n",
      " 241 247 232 235 247 187 274 184 235 184 165 235 215 183 165 186 243 235\n",
      " 217 235 230 266 244 226 239 240 184 187 238 209 216 189 290 255 185 235\n",
      " 187 235 241 242 270 110  83 131 100 115  95 103 130  84 118]\n"
     ]
    }
   ],
   "source": [
    "for index,key in enumerate(ks):\n",
    "    print( index, key)\n",
    "    data = np.array(f[key])\n",
    "    print(data)"
   ]
  }
 ],
 "metadata": {
  "kernelspec": {
   "display_name": "Python 3",
   "language": "python",
   "name": "python3"
  },
  "language_info": {
   "codemirror_mode": {
    "name": "ipython",
    "version": 3
   },
   "file_extension": ".py",
   "mimetype": "text/x-python",
   "name": "python",
   "nbconvert_exporter": "python",
   "pygments_lexer": "ipython3",
   "version": "3.5.2"
  }
 },
 "nbformat": 4,
 "nbformat_minor": 2
}
